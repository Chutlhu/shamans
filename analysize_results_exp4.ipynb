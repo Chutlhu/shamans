{
 "cells": [
  {
   "cell_type": "code",
   "execution_count": 1,
   "metadata": {},
   "outputs": [],
   "source": [
    "import numpy as np\n",
    "import pandas as pd\n",
    "import matplotlib.pyplot as plt\n",
    "import seaborn as sns\n",
    "import pickle\n",
    "\n",
    "from tqdm import tqdm\n",
    "\n",
    "import pyroomacoustics as pra\n",
    "import itertools\n",
    "\n",
    "import eval_tools as eval"
   ]
  },
  {
   "cell_type": "markdown",
   "metadata": {},
   "source": [
    "Used the data of experiment 3, but use threshold to find the number of sources."
   ]
  },
  {
   "cell_type": "code",
   "execution_count": 2,
   "metadata": {},
   "outputs": [
    {
     "name": "stdout",
     "output_type": "stream",
     "text": [
      "(45900, 28)\n",
      "5100\n"
     ]
    }
   ],
   "source": [
    "# load data\n",
    "exp_df = pd.read_csv('results/experiment_results_exp-3.csv')\n",
    "# laod picke file with the ground truth\n",
    "\n",
    "with open('results/experiment_results_exp-3_with_ang_specs.pkl', 'rb') as f:\n",
    "    ang_specs = pickle.load(f)\n",
    "    \n",
    "print(exp_df.shape)\n",
    "print(len(ang_specs))\n",
    "\n",
    "doa_grid_rad = np.deg2rad(np.arange(0, 360, 6))"
   ]
  },
  {
   "cell_type": "code",
   "execution_count": 3,
   "metadata": {},
   "outputs": [
    {
     "name": "stdout",
     "output_type": "stream",
     "text": [
      "[ 13  42 666]\n"
     ]
    }
   ],
   "source": [
    "print(exp_df['seed'].unique())"
   ]
  },
  {
   "cell_type": "code",
   "execution_count": 4,
   "metadata": {},
   "outputs": [
    {
     "name": "stderr",
     "output_type": "stream",
     "text": [
      "100%|██████████| 5100/5100 [00:00<00:00, 1489516.77it/s]\n"
     ]
    }
   ],
   "source": [
    "ang_specs_dicts = {}\n",
    "for d in tqdm(ang_specs):\n",
    "    # if the frame id is not in the dict, add it\n",
    "    if d['frame_id'] not in ang_specs_dicts:\n",
    "        ang_specs_dicts[d['frame_id']] = {}\n",
    "    # add the method id to the frame id\n",
    "    ang_specs_dicts[d['frame_id']][d['method_id']] = d"
   ]
  },
  {
   "cell_type": "code",
   "execution_count": 5,
   "metadata": {},
   "outputs": [],
   "source": [
    "def detect_peaks(values):\n",
    "    # make circular\n",
    "    n_points = len(values)\n",
    "    val_ext = np.append(values, values[:10])\n",
    "\n",
    "    # run peak finding\n",
    "    indexes = pra.doa.detect_peaks(val_ext, show=False) % n_points\n",
    "    candidates = np.unique(indexes)  # get rid of duplicates, if any\n",
    "    return candidates"
   ]
  },
  {
   "cell_type": "code",
   "execution_count": 6,
   "metadata": {},
   "outputs": [
    {
     "name": "stderr",
     "output_type": "stream",
     "text": [
      "Iterating over frames for thr 0.05: 100%|██████████| 150/150 [00:01<00:00, 101.25it/s]\n",
      "Iterating over frames for thr 0.1: 100%|██████████| 150/150 [00:02<00:00, 62.95it/s]\n",
      "Iterating over frames for thr 0.2: 100%|██████████| 150/150 [00:03<00:00, 45.49it/s]\n",
      "Iterating over frames for thr 0.5: 100%|██████████| 150/150 [00:03<00:00, 40.83it/s]\n",
      "Iterating over frames for thr 0.8: 100%|██████████| 150/150 [00:03<00:00, 38.15it/s]"
     ]
    },
    {
     "name": "stdout",
     "output_type": "stream",
     "text": [
      "88769\n"
     ]
    },
    {
     "name": "stderr",
     "output_type": "stream",
     "text": [
      "\n"
     ]
    }
   ],
   "source": [
    "thresholds_ang_spec = [0.05, 0.1, 0.2, 0.5, 0.8]\n",
    "\n",
    "df_results = pd.DataFrame()\n",
    "\n",
    "for t in thresholds_ang_spec:\n",
    "    for frame_id in tqdm(ang_specs_dicts.keys(), desc='Iterating over frames for thr {}'.format(t)):\n",
    "        for method_id in ang_specs_dicts[frame_id].keys():\n",
    "                        \n",
    "            ang_spec = ang_specs_dicts[frame_id][method_id]['ang_spec']\n",
    "            \n",
    "            ang_spec = np.mean(np.array(ang_spec), -1)\n",
    "            ang_spec = ang_spec / np.max(ang_spec)\n",
    "            \n",
    "            # set the threshold\n",
    "            ang_spec[ang_spec < t] = 0\n",
    "            \n",
    "            # find peaks\n",
    "            peaks = detect_peaks(ang_spec)      \n",
    "            \n",
    "            df_ = pd.DataFrame({\n",
    "                'frame_id': frame_id,\n",
    "                \"method_id\": method_id,\n",
    "                'thresholds_ang_spec': t,\n",
    "                'peaks_locations': peaks.tolist(),\n",
    "                'n_peaks': len(peaks)\n",
    "            })\n",
    "            df_results = pd.concat([df_results, df_], ignore_index=True)\n",
    "            \n",
    "print(len(df_results))"
   ]
  },
  {
   "cell_type": "code",
   "execution_count": 7,
   "metadata": {},
   "outputs": [
    {
     "name": "stdout",
     "output_type": "stream",
     "text": [
      "[ 13  42 666]\n"
     ]
    }
   ],
   "source": [
    "# merge the results_df with the exp_df on the frame_id and method_id\n",
    "df_merge = df_results.merge(exp_df, on=['frame_id', 'method_id'])\n",
    "print(df_merge['seed'].unique())\n"
   ]
  },
  {
   "cell_type": "code",
   "execution_count": null,
   "metadata": {},
   "outputs": [
    {
     "name": "stderr",
     "output_type": "stream",
     "text": [
      "Iterating over frames:   0%|          | 0/150 [00:00<?, ?it/s]"
     ]
    },
    {
     "name": "stdout",
     "output_type": "stream",
     "text": [
      "nSrc-1_doas-[44]_type-speech-duration-0.5-snr-20_noise-awgn_reverb-False_mc-0\n",
      "[108. 270.]\n",
      "[264. 264.]\n",
      "1\n",
      "alpha-2.0_beta-2_eps-1E-3_iter-500_freqs-[200, 4000]_ref_nObs-8_seed-13_norm-True\n",
      "                                            frame_id  \\\n",
      "0  nSrc-1_doas-[44]_type-speech-duration-0.5-snr-...   \n",
      "1  nSrc-1_doas-[44]_type-speech-duration-0.5-snr-...   \n",
      "\n",
      "                                           method_id  thresholds_ang_spec  \\\n",
      "0  alpha-2.0_beta-2_eps-1E-3_iter-500_freqs-[200,...                 0.05   \n",
      "1  alpha-2.0_beta-2_eps-1E-3_iter-500_freqs-[200,...                 0.05   \n",
      "\n",
      "   peaks_locations  n_peaks  \\\n",
      "0               18        2   \n",
      "1               45        2   \n",
      "\n",
      "                                            exp_name             time  \\\n",
      "0  exp-3_nSrc-1_doas-[44]_type-speech-duration-0....  20250306-123716   \n",
      "1  exp-3_nSrc-1_doas-[44]_type-speech-duration-0....  20250306-123716   \n",
      "\n",
      "  record_id  num_srcs  src_ids  ...  noise_type  add_reverberation  mc_seed  \\\n",
      "0        s0         1        0  ...        awgn              False        0   \n",
      "1        s0         1        0  ...        awgn              False        0   \n",
      "\n",
      "                           loc_method  freq_min  freq_max  sv_method nObs  \\\n",
      "0  alpha-2.0_beta-2_eps-1E-3_iter-500       200      4000        ref    8   \n",
      "1  alpha-2.0_beta-2_eps-1E-3_iter-500       200      4000        ref    8   \n",
      "\n",
      "   seed  sv_normalization  \n",
      "0    13              True  \n",
      "1    13              True  \n",
      "\n",
      "[2 rows x 31 columns]\n"
     ]
    },
    {
     "name": "stderr",
     "output_type": "stream",
     "text": [
      "\n"
     ]
    },
    {
     "ename": "ValueError",
     "evalue": "True positives greater than n_sources",
     "output_type": "error",
     "traceback": [
      "\u001b[0;31m---------------------------------------------------------------------------\u001b[0m",
      "\u001b[0;31mValueError\u001b[0m                                Traceback (most recent call last)",
      "Cell \u001b[0;32mIn[55], line 38\u001b[0m\n\u001b[1;32m     36\u001b[0m     \u001b[38;5;28mprint\u001b[39m(method_id)\n\u001b[1;32m     37\u001b[0m     \u001b[38;5;28mprint\u001b[39m(df_\u001b[38;5;241m.\u001b[39mloc[df_[\u001b[38;5;124m'\u001b[39m\u001b[38;5;124mthresholds_ang_spec\u001b[39m\u001b[38;5;124m'\u001b[39m] \u001b[38;5;241m==\u001b[39m thr])\n\u001b[0;32m---> 38\u001b[0m     \u001b[38;5;28;01mraise\u001b[39;00m \u001b[38;5;167;01mValueError\u001b[39;00m(\u001b[38;5;124m'\u001b[39m\u001b[38;5;124mTrue positives greater than n_sources\u001b[39m\u001b[38;5;124m'\u001b[39m)\n\u001b[1;32m     39\u001b[0m metrics[\u001b[38;5;124m'\u001b[39m\u001b[38;5;124mframe_id\u001b[39m\u001b[38;5;124m'\u001b[39m] \u001b[38;5;241m=\u001b[39m frame_id\n\u001b[1;32m     40\u001b[0m metrics[\u001b[38;5;124m'\u001b[39m\u001b[38;5;124mmethod_id\u001b[39m\u001b[38;5;124m'\u001b[39m] \u001b[38;5;241m=\u001b[39m method_id\n",
      "\u001b[0;31mValueError\u001b[0m: True positives greater than n_sources"
     ]
    }
   ],
   "source": [
    "# for each frame id and method id, get the assorciate data_frame\n",
    "frame_ids = df_results['frame_id'].unique()\n",
    "method_ids = df_results['method_id'].unique()\n",
    "\n",
    "ang_error_thr = 10\n",
    "\n",
    "results_thr_list = []\n",
    "\n",
    "for frame_id in tqdm(frame_ids, desc='Iterating over frames'):\n",
    "    for method_id in method_ids:\n",
    "        df_ = df_merge.loc[\n",
    "            (df_merge['frame_id'] == frame_id) \n",
    "            & (df_merge['method_id'] == method_id)\n",
    "        ]\n",
    "        \n",
    "        thrs = df_['thresholds_ang_spec'].unique()\n",
    "        \n",
    "        for thr in thrs:\n",
    "            \n",
    "            n_sources = df_.loc[df_['thresholds_ang_spec'] == thr, 'n_sources'].unique()\n",
    "            assert len(n_sources) == 1\n",
    "            n_sources = n_sources[0]\n",
    "            estimated_peaks = df_.loc[df_['thresholds_ang_spec'] == thr, 'peaks_locations']\n",
    "            estimated_azimuths = np.rad2deg(doa_grid_rad[estimated_peaks])\n",
    "            target_azimuths = np.rad2deg(df_.loc[df_['thresholds_ang_spec'] == thr, 'doas_ref_az'].unique())\n",
    "        \n",
    "            n_estimated = len(estimated_azimuths)\n",
    "            n_target = len(target_azimuths)\n",
    "\n",
    "            metrics = eval.compute_metrics(estimated_azimuths, target_azimuths, ang_error_thr)\n",
    "            if len(target_azimuths) > n_sources:\n",
    "                print(frame_id)\n",
    "                print(estimated_azimuths)\n",
    "                print(target_azimuths)\n",
    "                print(n_sources)\n",
    "                print(method_id)\n",
    "                print(df_.loc[df_['thresholds_ang_spec'] == thr])\n",
    "                raise ValueError('True positives greater than n_sources')\n",
    "            metrics['frame_id'] = frame_id\n",
    "            metrics['method_id'] = method_id\n",
    "            metrics['ang_error_thr'] = ang_error_thr\n",
    "            \n",
    "            results_thr_list.append(metrics)\n",
    "        \n",
    "df_results_thr_ = pd.DataFrame(results_thr_list)\n",
    "df_results_thr = df_results_thr_.merge(df_merge, on=['frame_id', 'method_id'])"
   ]
  },
  {
   "cell_type": "code",
   "execution_count": 15,
   "metadata": {},
   "outputs": [
    {
     "data": {
      "text/plain": [
       "array([ 13,  42, 666])"
      ]
     },
     "execution_count": 15,
     "metadata": {},
     "output_type": "execute_result"
    }
   ],
   "source": [
    "df_results_thr['seed'].unique()"
   ]
  },
  {
   "cell_type": "code",
   "execution_count": 16,
   "metadata": {},
   "outputs": [
    {
     "data": {
      "text/plain": [
       "18390"
      ]
     },
     "execution_count": 16,
     "metadata": {},
     "output_type": "execute_result"
    }
   ],
   "source": [
    "# keep only \n",
    "df_results_thr['loc_method_simple'] = df_results_thr['loc_method'].apply(lambda x: x.split('-')[0])\n",
    "\n",
    "# select the data frame with the desired parameters\n",
    "df_ = df_results_thr.loc[\n",
    "    (df_results_thr['n_sources'] == 3)\n",
    "    & (df_results_thr['seed'] == 13)\n",
    "    & (df_results_thr['record_id'] == 's0')\n",
    "    & (df_results_thr['duration'] == 0.5)\n",
    "    & (df_results_thr['loc_method_simple'].isin(['srp_phat', 'music', 'alpha']))\n",
    "]\n",
    "len(df_)"
   ]
  },
  {
   "cell_type": "code",
   "execution_count": 17,
   "metadata": {},
   "outputs": [
    {
     "data": {
      "text/plain": [
       "Index(['true_positives', 'false_positives', 'false_negatives', 'precision',\n",
       "       'recall', 'f1_score', 'accuracy', 'mean_error', 'frame_id', 'method_id',\n",
       "       'ang_error_thr', 'thresholds_ang_spec', 'peaks_locations', 'n_peaks',\n",
       "       'exp_name', 'time', 'record_id', 'num_srcs', 'src_ids', 'doas_est_idx',\n",
       "       'doas_ref_idx', 'doas_ref_az', 'doas_est_az', 'doas_ref_el',\n",
       "       'doas_est_el', 'errors', 'target_doa', 'n_sources', 'duration', 'snr',\n",
       "       'noise_type', 'add_reverberation', 'mc_seed', 'loc_method', 'freq_min',\n",
       "       'freq_max', 'sv_method', 'nObs', 'seed', 'sv_normalization',\n",
       "       'loc_method_simple'],\n",
       "      dtype='object')"
      ]
     },
     "execution_count": 17,
     "metadata": {},
     "output_type": "execute_result"
    }
   ],
   "source": [
    "df_.columns"
   ]
  },
  {
   "cell_type": "code",
   "execution_count": null,
   "metadata": {},
   "outputs": [
    {
     "name": "stderr",
     "output_type": "stream",
     "text": [
      "Iterating over frames:   0%|          | 0/15 [00:00<?, ?it/s]"
     ]
    },
    {
     "name": "stdout",
     "output_type": "stream",
     "text": [
      "[0.5        0.5        0.5        0.5        0.5        0.5\n",
      " 0.5        0.5        0.66666667 0.66666667 0.66666667 0.66666667\n",
      " 0.5        0.5        0.5        0.5        0.33333333 0.33333333\n",
      " 0.33333333 0.33333333]\n"
     ]
    },
    {
     "name": "stderr",
     "output_type": "stream",
     "text": [
      "\n"
     ]
    },
    {
     "ename": "ZeroDivisionError",
     "evalue": "division by zero",
     "output_type": "error",
     "traceback": [
      "\u001b[0;31m---------------------------------------------------------------------------\u001b[0m",
      "\u001b[0;31mZeroDivisionError\u001b[0m                         Traceback (most recent call last)",
      "Cell \u001b[0;32mIn[21], line 25\u001b[0m\n\u001b[1;32m     20\u001b[0m recall \u001b[38;5;241m=\u001b[39m df__\u001b[38;5;241m.\u001b[39mloc[df__[\u001b[38;5;124m'\u001b[39m\u001b[38;5;124mthresholds_ang_spec\u001b[39m\u001b[38;5;124m'\u001b[39m] \u001b[38;5;241m==\u001b[39m thr, \u001b[38;5;124m'\u001b[39m\u001b[38;5;124mrecall\u001b[39m\u001b[38;5;124m'\u001b[39m]\u001b[38;5;241m.\u001b[39mvalues\n\u001b[1;32m     22\u001b[0m \u001b[38;5;28mprint\u001b[39m(precision)\n\u001b[0;32m---> 25\u001b[0m \u001b[38;5;241;43m1\u001b[39;49m\u001b[38;5;241;43m/\u001b[39;49m\u001b[38;5;241;43m0\u001b[39;49m\n",
      "\u001b[0;31mZeroDivisionError\u001b[0m: division by zero"
     ]
    }
   ],
   "source": [
    "frame_ids = df_['frame_id'].unique()\n",
    "method_ids = df_['method_id'].unique()\n",
    "\n",
    "for frame_id in tqdm(frame_ids, desc='Iterating over frames'):\n",
    "    \n",
    "    for method_id in method_ids:\n",
    "        \n",
    "        df__ = df_.loc[\n",
    "            (df_['frame_id'] == frame_id) \n",
    "            & (df_['method_id'] == method_id)\n",
    "        ]\n",
    "                \n",
    "        if len(df__) == 0:\n",
    "            continue\n",
    "        \n",
    "        thrs = df__['thresholds_ang_spec'].unique()\n",
    "\n",
    "        for thr in thrs:\n",
    "            precision = df__.loc[df__['thresholds_ang_spec'] == thr, 'precision'].values\n",
    "            recall = df__.loc[df__['thresholds_ang_spec'] == thr, 'recall'].values\n",
    "            \n",
    "            \n",
    "            print(precision)    \n",
    "            \n",
    "            1/0"
   ]
  },
  {
   "cell_type": "code",
   "execution_count": 38,
   "metadata": {},
   "outputs": [
    {
     "name": "stdout",
     "output_type": "stream",
     "text": [
      "0.05\n",
      "true_positives [6 3 1]\n",
      "false_positives [6 3 2]\n",
      "false_negatives [6 3 2]\n",
      "precision [0.5        0.66666667 0.33333333]\n",
      "recall [0.5        0.66666667 0.33333333]\n",
      "f1_score [0.5        0.66666667 0.33333333]\n",
      "accuracy [0.33333333 0.5        0.2       ]\n",
      "mean_error [3. 2. 6.]\n",
      "frame_id ['nSrc-3_doas-[44 47 53]_type-speech-duration-0.5-snr-20_noise-awgn_reverb-False_mc-0']\n",
      "method_id ['alpha-2.0_beta-2_eps-1E-3_iter-500_freqs-[200, 4000]_ref_nObs-8_seed-13_norm-True']\n",
      "ang_error_thr [10]\n",
      "thresholds_ang_spec [0.05]\n",
      "peaks_locations [18 41 46 53]\n",
      "n_peaks [4]\n",
      "exp_name ['exp-3_nSrc-3_doas-[44 47 53]_type-speech-duration-0.5-snr-20_noise-awgn_reverb-False_mc-0_alpha-2.0_beta-2_eps-1E-3_iter-500_freqs-[200, 4000]_ref_nObs-8_seed-13_norm-True']\n",
      "time ['20250306-124246']\n",
      "record_id ['s0']\n",
      "num_srcs [3]\n",
      "src_ids [0]\n",
      "doas_est_idx [41]\n",
      "doas_ref_idx [44]\n",
      "doas_ref_az [4.60766923]\n",
      "doas_est_az [4.29350996]\n",
      "doas_ref_el [1.57079633]\n",
      "doas_est_el [1.57079633]\n",
      "errors [0.31415927]\n",
      "target_doa ['[1.5707963267948966, 4.60766922526503]']\n",
      "n_sources [3]\n",
      "duration [0.5]\n",
      "snr [20]\n",
      "noise_type ['awgn']\n",
      "add_reverberation [False]\n",
      "mc_seed [0]\n",
      "loc_method ['alpha-2.0_beta-2_eps-1E-3_iter-500']\n",
      "freq_min [200]\n",
      "freq_max [4000]\n",
      "sv_method ['ref']\n",
      "nObs [8]\n",
      "seed [13]\n",
      "sv_normalization [ True]\n",
      "loc_method_simple ['alpha']\n"
     ]
    }
   ],
   "source": [
    "print(thr)\n",
    "df___ = df__.loc[df__['thresholds_ang_spec'] == thr]\n",
    "for column in df___.columns:\n",
    "    print(column, df___[column].unique())"
   ]
  },
  {
   "cell_type": "code",
   "execution_count": 42,
   "metadata": {},
   "outputs": [],
   "source": [
    "df___.to_csv('df_results_thr.csv', index=False)"
   ]
  },
  {
   "cell_type": "code",
   "execution_count": null,
   "metadata": {},
   "outputs": [],
   "source": []
  }
 ],
 "metadata": {
  "kernelspec": {
   "display_name": "shamans",
   "language": "python",
   "name": "python3"
  },
  "language_info": {
   "codemirror_mode": {
    "name": "ipython",
    "version": 3
   },
   "file_extension": ".py",
   "mimetype": "text/x-python",
   "name": "python",
   "nbconvert_exporter": "python",
   "pygments_lexer": "ipython3",
   "version": "3.9.21"
  }
 },
 "nbformat": 4,
 "nbformat_minor": 2
}
