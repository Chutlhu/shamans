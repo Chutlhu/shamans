{
 "cells": [
  {
   "cell_type": "code",
   "execution_count": 21,
   "metadata": {},
   "outputs": [],
   "source": [
    "import numpy as np\n",
    "import pandas as pd\n",
    "import matplotlib.pyplot as plt\n",
    "import seaborn as sns\n",
    "\n",
    "from tqdm import tqdm\n",
    "\n",
    "from pathlib import Path\n",
    "\n",
    "import shamans.utils.eval_utils as eval"
   ]
  },
  {
   "cell_type": "code",
   "execution_count": 22,
   "metadata": {},
   "outputs": [],
   "source": [
    "# merge all the csv fo the experiments 1 for different runs\n",
    "def merge_csvs_and_get_dataframe(exp_id, path_to_results):\n",
    "    all_filenames = [i for i in path_to_results.glob(f'*_exp-{exp_id}_run-*.csv')]\n",
    "    combined_csv = pd.concat([pd.read_csv(f) for f in all_filenames])\n",
    "    combined_csv.to_csv(path_to_results / f\"experiment_results_exp-{exp_id}_all_runs.csv\", index=False, encoding='utf-8-sig')\n",
    "    return combined_csv"
   ]
  },
  {
   "cell_type": "code",
   "execution_count": 23,
   "metadata": {},
   "outputs": [],
   "source": [
    "# load data\n",
    "exp_id = 5\n",
    "path_to_results = Path('results/')\n",
    "exp_df = merge_csvs_and_get_dataframe(exp_id, path_to_results)"
   ]
  },
  {
   "cell_type": "code",
   "execution_count": 24,
   "metadata": {},
   "outputs": [
    {
     "name": "stderr",
     "output_type": "stream",
     "text": [
      "frame: 100%|██████████| 12/12 [00:00<00:00, 19.60it/s]\n"
     ]
    }
   ],
   "source": [
    "# compute accuracy and recall for each doas estimated by each method within a threshold of 10 degrees\n",
    "\n",
    "def calc_ae(a,b):\n",
    "    x = np.abs(a-b)\n",
    "    return np.min(np.array((x, np.abs(360-x))), axis=0)\n",
    "\n",
    "exp_df['ang_error'] = calc_ae(\n",
    "    np.rad2deg(exp_df['doas_est_az']), \n",
    "    np.rad2deg(exp_df['doas_ref_az'])\n",
    ")\n",
    "\n",
    "ang_error_threshold_choices = [15]\n",
    "\n",
    "# compute accuracy and recall based on the frame id as in DCASE Task 3\n",
    "unique_frame_ids = exp_df['frame_id'].unique()\n",
    "unique_method_ids = exp_df['method_id'].unique()\n",
    "\n",
    "df_thresholds = pd.DataFrame()\n",
    "\n",
    "for frame_id in tqdm(unique_frame_ids, desc='frame'):\n",
    "    df_frame = exp_df[exp_df['frame_id'] == frame_id]\n",
    "    \n",
    "    for method_id in unique_method_ids:\n",
    "        df_method = df_frame[df_frame['method_id'] == method_id]    \n",
    "                \n",
    "        assert len(df_method) == np.unique(df_method['doas_est_az']).shape[0] == np.unique(df_method['n_sources'])\n",
    "            \n",
    "        # accuracy and mean error\n",
    "        for thr in ang_error_threshold_choices:\n",
    "            \n",
    "            accuracy = np.sum(df_method['ang_error'] <= thr) / len(df_method)\n",
    "            error = np.mean(df_method[df_method['ang_error'] <= thr]['ang_error'])\n",
    "\n",
    "            df_ = pd.DataFrame({\n",
    "                \"frame_id\": frame_id,\n",
    "                \"method_id\": method_id,\n",
    "                \"accuracy\": accuracy,\n",
    "                \"mean_error\": error,\n",
    "                \"threshold\": thr\n",
    "            }, index=[0])\n",
    "            df_thresholds = pd.concat([df_thresholds, df_], ignore_index=True)"
   ]
  },
  {
   "cell_type": "code",
   "execution_count": 25,
   "metadata": {},
   "outputs": [],
   "source": [
    "df_merge = exp_df.merge(df_thresholds, on=['frame_id', 'method_id'])"
   ]
  },
  {
   "cell_type": "code",
   "execution_count": 26,
   "metadata": {},
   "outputs": [
    {
     "name": "stdout",
     "output_type": "stream",
     "text": [
      "['ref' 'alg' 'gp-steerer']\n",
      "['ref_8' 'alg_8' 'gp-steerer_8' 'gp-steerer_16' 'gp-steerer_32'\n",
      " 'gp-steerer_64' 'gp-steerer_128']\n",
      "['awgn']\n",
      "[3]\n",
      "[20]\n",
      "[1.]\n",
      "[0.123]\n",
      "['alpha-1.6_beta-1_eps-1E-3_iter-500' 'alpha-0.8_beta-1_eps-1E-3_iter-500'\n",
      " 'alpha-0.4_beta-1_eps-1E-3_iter-500' 'alpha-0.1_beta-1_eps-1E-3_iter-500'\n",
      " 'alpha-2.0_beta-1_eps-1E-3_iter-500' 'alpha-2.0_beta-2_eps-1E-3_iter-500'\n",
      " 'alpha-1.2_beta-1_eps-1E-3_iter-500' 'music_s-3' 'srp_phat']\n",
      "['alpha-0.1' 'alpha-0.4' 'alpha-0.8' 'alpha-1.2' 'alpha-1.6' 'alpha-2.0']\n"
     ]
    }
   ],
   "source": [
    "# n_sources_choice = [1]\n",
    "# source_type_choices = ['speech']\n",
    "# snr_choices = np.arange(-30, 31, 10).tolist()\n",
    "# noise_type_choices = ['awgn', 'alpha-1.2', 'alpha-0.8']\n",
    "# sound_duration_choices = [0.5]\n",
    "# add_reverb_choices = [False]\n",
    "\n",
    "df_merge = df_merge.assign(sv_model=df_merge['sv_method'] + '_' + df_merge['nObs'].astype(str))\n",
    "df_merge = df_merge.assign(loc_algo=df_merge['loc_method'].str[:3])\n",
    "\n",
    "print(df_merge['sv_method'].unique())\n",
    "print(df_merge['sv_model'].unique())\n",
    "print(df_merge['noise_type'].unique())\n",
    "print(df_merge['n_sources'].unique())\n",
    "print(df_merge['snr'].unique())\n",
    "print(df_merge['duration'].unique())\n",
    "print(df_merge['rt60'].unique())\n",
    "print(df_merge['loc_method'].unique())\n",
    "print(df_merge['source_type'].unique())\n",
    "\n",
    "\n",
    "idx = df_merge['loc_method'].str.startswith('alpha')\n",
    "df_merge.loc[idx, 'alpha_method'] = df_merge.loc[idx, 'loc_method'].apply(lambda x: float(x.split('_')[0].split('-')[-1]))\n",
    "df_merge.loc[idx, 'alpha_scene'] = df_merge.loc[idx, 'source_type'].apply(lambda x: float(x.split('-')[-1]))\n"
   ]
  },
  {
   "cell_type": "code",
   "execution_count": 27,
   "metadata": {},
   "outputs": [],
   "source": [
    "best_seed = 666\n",
    "# rename ref_8 and alg_6 to ref and alg\n",
    "df_merge['sv_model'] = df_merge['sv_model'].str.replace('ref_8', 'ref')\n",
    "df_merge['sv_model'] = df_merge['sv_model'].str.replace('alg_8', 'alg')\n",
    "df_merge.loc[df_merge['sv_model'] == 'ref', 'seed'] = 666\n",
    "df_merge.loc[df_merge['sv_model'] == 'alg', 'seed'] = 666"
   ]
  },
  {
   "cell_type": "code",
   "execution_count": 37,
   "metadata": {},
   "outputs": [
    {
     "data": {
      "text/plain": [
       "<Axes: xlabel='alpha_scene', ylabel='alpha_method'>"
      ]
     },
     "execution_count": 37,
     "metadata": {},
     "output_type": "execute_result"
    },
    {
     "data": {
      "image/png": "[encoded data removed]",
      "text/plain": [
       "<Figure size 600x600 with 2 Axes>"
      ]
     },
     "metadata": {},
     "output_type": "display_data"
    }
   ],
   "source": [
    "n_max_sources = np.max(df_merge['n_sources'])\n",
    "loc_methods = np.unique(df_merge['loc_method'])\n",
    "sv_methods = np.unique(df_merge['sv_method'])\n",
    "rt60_choices = np.unique(df_merge['rt60'])\n",
    "\n",
    "df_merge['loc_method_simple'] = df_merge['loc_method'].apply(lambda x: x.split('-')[0])\n",
    "    \n",
    "df_ = df_merge[\n",
    "    (df_merge['seed'] == best_seed)\n",
    "    & (df_merge['threshold'] == thr)\n",
    "    & (df_merge['n_sources'] == 3)\n",
    "    & (df_merge['record_id'] == 's0')\n",
    "    & (df_merge['rt60'] == 0.123)\n",
    "    & (df_merge['sv_model'] == 'gp-steerer_64')\n",
    "]\n",
    "\n",
    "fig, axarr = plt.subplots(1, 1, figsize=(6, 6))\n",
    "heat = df_.pivot_table(\n",
    "    index='alpha_method', \n",
    "    columns='alpha_scene', \n",
    "    values='accuracy', \n",
    "    aggfunc='mean'\n",
    ")\n",
    "heat.sort_index(level=0, ascending=False, inplace=True)\n",
    "sns.heatmap(heat, ax=axarr, annot=True, fmt=\".2f\", cbar_kws={'label': 'accuracy'}, \n",
    "            cmap=sns.cubehelix_palette(as_cmap=True))\n"
   ]
  },
  {
   "cell_type": "code",
   "execution_count": null,
   "metadata": {},
   "outputs": [],
   "source": []
  },
  {
   "cell_type": "code",
   "execution_count": null,
   "metadata": {},
   "outputs": [],
   "source": []
  }
 ],
 "metadata": {
  "kernelspec": {
   "display_name": "shamans",
   "language": "python",
   "name": "python3"
  },
  "language_info": {
   "codemirror_mode": {
    "name": "ipython",
    "version": 3
   },
   "file_extension": ".py",
   "mimetype": "text/x-python",
   "name": "python",
   "nbconvert_exporter": "python",
   "pygments_lexer": "ipython3",
   "version": "3.9.21"
  }
 },
 "nbformat": 4,
 "nbformat_minor": 2
}
