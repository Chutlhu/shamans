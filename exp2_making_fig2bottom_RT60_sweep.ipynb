{
 "cells": [
  {
   "cell_type": "code",
   "execution_count": 1,
   "metadata": {},
   "outputs": [],
   "source": [
    "import numpy as np\n",
    "import pandas as pd\n",
    "import matplotlib.pyplot as plt\n",
    "import seaborn as sns\n",
    "\n",
    "from pathlib import Path"
   ]
  },
  {
   "cell_type": "code",
   "execution_count": 2,
   "metadata": {},
   "outputs": [],
   "source": [
    "# merge all the csv fo the experiments 1 for different runs\n",
    "def merge_csvs_and_get_dataframe(exp_id, path_to_results):\n",
    "    all_filenames = [i for i in path_to_results.glob(f'*_exp-{exp_id}_run-*.csv')]\n",
    "    combined_csv = pd.concat([pd.read_csv(f) for f in all_filenames])\n",
    "    combined_csv.to_csv(path_to_results / f\"experiment_results_exp-{exp_id}_all_runs.csv\", index=False)\n",
    "    return combined_csv"
   ]
  },
  {
   "cell_type": "code",
   "execution_count": 3,
   "metadata": {},
   "outputs": [
    {
     "name": "stdout",
     "output_type": "stream",
     "text": [
      "['alp' 'mus' 'srp']\n"
     ]
    }
   ],
   "source": [
    "# load data\n",
    "exp_id = 2\n",
    "path_to_results = Path('results_2025-03-13/')\n",
    "path_to_results = Path('results/')\n",
    "exp_df = merge_csvs_and_get_dataframe(exp_id, path_to_results)\n",
    "\n",
    "exp_df = exp_df.assign(sv_model=exp_df['sv_method'] + '_' + exp_df['nObs'].astype(str))\n",
    "exp_df = exp_df.assign(loc_algo=exp_df['loc_method'].str[:3])\n",
    "\n",
    "print(exp_df['loc_algo'].unique())"
   ]
  },
  {
   "cell_type": "code",
   "execution_count": 4,
   "metadata": {},
   "outputs": [],
   "source": [
    "# compute accuracy and recall for each doas estimated by each method within a threshold of 10 degrees\n",
    "\n",
    "def calc_ae(a,b):\n",
    "    x = np.abs(a-b)\n",
    "    return np.min(np.array((x, np.abs(360-x))), axis=0)\n",
    "\n",
    "exp_df['ang_error'] = calc_ae(\n",
    "    np.rad2deg(exp_df['doas_est_az']), \n",
    "    np.rad2deg(exp_df['doas_ref_az'])\n",
    ")\n",
    "\n"
   ]
  },
  {
   "cell_type": "code",
   "execution_count": 5,
   "metadata": {},
   "outputs": [
    {
     "data": {
      "image/png": "[encoded data removed]",
      "text/plain": [
       "<Figure size 640x480 with 1 Axes>"
      ]
     },
     "metadata": {},
     "output_type": "display_data"
    }
   ],
   "source": [
    "plt.hist(np.rad2deg(exp_df['doas_ref_az']), bins=100, alpha=0.5, label='doas_ref_az')\n",
    "plt.show()"
   ]
  },
  {
   "cell_type": "code",
   "execution_count": 6,
   "metadata": {},
   "outputs": [
    {
     "name": "stdout",
     "output_type": "stream",
     "text": [
      "sv_model ['ref_8' 'alg_8' 'gp-steerer_8' 'gp-steerer_16' 'gp-steerer_32'\n",
      " 'gp-steerer_64' 'gp-steerer_128']\n",
      "noise_type ['awgn' 'alpha-1.2']\n",
      "n_sources [1]\n",
      "snr [10]\n",
      "duration [1.]\n",
      "rt60 [0.    0.123 0.273 0.516 0.666 0.953 1.263]\n",
      "loc_method ['alpha-X.X_beta-1_eps-1E-3_iter-500' 'alpha-1.2_beta-1_eps-1E-3_iter-500'\n",
      " 'music_s-1' 'srp_phat']\n"
     ]
    }
   ],
   "source": [
    "print('sv_model', exp_df['sv_model'].unique())\n",
    "print('noise_type', exp_df['noise_type'].unique())\n",
    "print('n_sources', exp_df['n_sources'].unique())\n",
    "print('snr', exp_df['snr'].unique())\n",
    "print('duration', exp_df['duration'].unique())\n",
    "print('rt60', exp_df['rt60'].unique())\n",
    "print('loc_method', exp_df['loc_method'].unique())"
   ]
  },
  {
   "cell_type": "markdown",
   "metadata": {},
   "source": [
    "## which seed is better for GP?"
   ]
  },
  {
   "cell_type": "code",
   "execution_count": 7,
   "metadata": {},
   "outputs": [
    {
     "data": {
      "text/html": [
       "<style type=\"text/css\">\n",
       "#T_c6aff_row0_col0, #T_c6aff_row0_col1, #T_c6aff_row0_col2, #T_c6aff_row0_col3, #T_c6aff_row0_col4, #T_c6aff_row0_col5, #T_c6aff_row0_col6, #T_c6aff_row0_col7, #T_c6aff_row0_col8, #T_c6aff_row0_col9 {\n",
       "  background-color: #440154;\n",
       "  color: #f1f1f1;\n",
       "}\n",
       "</style>\n",
       "<table id=\"T_c6aff\">\n",
       "  <thead>\n",
       "    <tr>\n",
       "      <th class=\"blank level0\" >&nbsp;</th>\n",
       "      <th id=\"T_c6aff_level0_col0\" class=\"col_heading level0 col0\" colspan=\"5\">mean</th>\n",
       "      <th id=\"T_c6aff_level0_col5\" class=\"col_heading level0 col5\" colspan=\"5\">std</th>\n",
       "    </tr>\n",
       "    <tr>\n",
       "      <th class=\"index_name level1\" >nObs</th>\n",
       "      <th id=\"T_c6aff_level1_col0\" class=\"col_heading level1 col0\" >8</th>\n",
       "      <th id=\"T_c6aff_level1_col1\" class=\"col_heading level1 col1\" >16</th>\n",
       "      <th id=\"T_c6aff_level1_col2\" class=\"col_heading level1 col2\" >32</th>\n",
       "      <th id=\"T_c6aff_level1_col3\" class=\"col_heading level1 col3\" >64</th>\n",
       "      <th id=\"T_c6aff_level1_col4\" class=\"col_heading level1 col4\" >128</th>\n",
       "      <th id=\"T_c6aff_level1_col5\" class=\"col_heading level1 col5\" >8</th>\n",
       "      <th id=\"T_c6aff_level1_col6\" class=\"col_heading level1 col6\" >16</th>\n",
       "      <th id=\"T_c6aff_level1_col7\" class=\"col_heading level1 col7\" >32</th>\n",
       "      <th id=\"T_c6aff_level1_col8\" class=\"col_heading level1 col8\" >64</th>\n",
       "      <th id=\"T_c6aff_level1_col9\" class=\"col_heading level1 col9\" >128</th>\n",
       "    </tr>\n",
       "    <tr>\n",
       "      <th class=\"index_name level0\" >seed</th>\n",
       "      <th class=\"blank col0\" >&nbsp;</th>\n",
       "      <th class=\"blank col1\" >&nbsp;</th>\n",
       "      <th class=\"blank col2\" >&nbsp;</th>\n",
       "      <th class=\"blank col3\" >&nbsp;</th>\n",
       "      <th class=\"blank col4\" >&nbsp;</th>\n",
       "      <th class=\"blank col5\" >&nbsp;</th>\n",
       "      <th class=\"blank col6\" >&nbsp;</th>\n",
       "      <th class=\"blank col7\" >&nbsp;</th>\n",
       "      <th class=\"blank col8\" >&nbsp;</th>\n",
       "      <th class=\"blank col9\" >&nbsp;</th>\n",
       "    </tr>\n",
       "  </thead>\n",
       "  <tbody>\n",
       "    <tr>\n",
       "      <th id=\"T_c6aff_level0_row0\" class=\"row_heading level0 row0\" >666</th>\n",
       "      <td id=\"T_c6aff_row0_col0\" class=\"data row0 col0\" >27.02</td>\n",
       "      <td id=\"T_c6aff_row0_col1\" class=\"data row0 col1\" >36.16</td>\n",
       "      <td id=\"T_c6aff_row0_col2\" class=\"data row0 col2\" >13.42</td>\n",
       "      <td id=\"T_c6aff_row0_col3\" class=\"data row0 col3\" >10.59</td>\n",
       "      <td id=\"T_c6aff_row0_col4\" class=\"data row0 col4\" >11.24</td>\n",
       "      <td id=\"T_c6aff_row0_col5\" class=\"data row0 col5\" >39.02</td>\n",
       "      <td id=\"T_c6aff_row0_col6\" class=\"data row0 col6\" >36.69</td>\n",
       "      <td id=\"T_c6aff_row0_col7\" class=\"data row0 col7\" >33.66</td>\n",
       "      <td id=\"T_c6aff_row0_col8\" class=\"data row0 col8\" >27.97</td>\n",
       "      <td id=\"T_c6aff_row0_col9\" class=\"data row0 col9\" >33.27</td>\n",
       "    </tr>\n",
       "  </tbody>\n",
       "</table>\n"
      ],
      "text/plain": [
       "<pandas.io.formats.style.Styler at 0x7f09577d4b50>"
      ]
     },
     "execution_count": 7,
     "metadata": {},
     "output_type": "execute_result"
    }
   ],
   "source": [
    "exp_df[\n",
    "    exp_df['sv_model'].isin(['gp-steerer_8', 'gp-steerer_16', 'gp-steerer_32', 'gp-steerer_64', 'gp-steerer_128'])\n",
    "].pivot_table(\n",
    "    index=['seed'], \n",
    "    columns=['nObs'],\n",
    "    values='ang_error', \n",
    "    aggfunc=['mean', 'std']\n",
    ").style.format(\"{:.2f}\").background_gradient(cmap='viridis', axis=0)"
   ]
  },
  {
   "cell_type": "code",
   "execution_count": 8,
   "metadata": {},
   "outputs": [],
   "source": [
    "best_seed = 666\n",
    "# rename ref_8 and alg_6 to ref and alg\n",
    "exp_df['sv_model'] = exp_df['sv_model'].str.replace('ref_8', 'ref')\n",
    "exp_df['sv_model'] = exp_df['sv_model'].str.replace('alg_8', 'alg')\n",
    "exp_df.loc[exp_df['sv_model'] == 'ref', 'seed'] = 666   \n",
    "exp_df.loc[exp_df['sv_model'] == 'alg', 'seed'] = 666"
   ]
  },
  {
   "cell_type": "markdown",
   "metadata": {},
   "source": [
    "# METHOD per RT60"
   ]
  },
  {
   "cell_type": "markdown",
   "metadata": {},
   "source": [
    "Nice plots"
   ]
  },
  {
   "cell_type": "code",
   "execution_count": 9,
   "metadata": {},
   "outputs": [
    {
     "name": "stdout",
     "output_type": "stream",
     "text": [
      "['SHAMaNS' 'alpha-1.2_beta-1_eps-1E-3_iter-500' 'MUSIC-1' 'SRP-PHAT']\n",
      "['Ref.' 'Alg.' 'NS-32']\n",
      "[0.    0.123 0.273 0.516 0.666 0.953 1.263]\n"
     ]
    }
   ],
   "source": [
    "# noise_type = 'alpha-1.2'\n",
    "noise_type = 'awgn'\n",
    "\n",
    "nice_plot_df = exp_df[\n",
    "    (exp_df['noise_type'] == noise_type)\n",
    "    # (exp_df['noise_type'] == 'alpha-0.8')\n",
    "    & (exp_df['sv_model'].isin(['ref', 'alg', 'gp-steerer_32']))\n",
    "    & (exp_df['loc_method'].isin([\n",
    "        'srp_phat', 'music_s-1', \n",
    "        'alpha-1.2_beta-1_eps-1E-3_iter-500',\n",
    "        'alpha-X.X_beta-1_eps-1E-3_iter-500']))\n",
    "    & (exp_df['seed'] == best_seed)\n",
    "    & (exp_df['duration'] == 1.)\n",
    "]\n",
    "\n",
    "# rename loc_methods and sv_models\n",
    "nice_plot_df.loc[nice_plot_df['loc_method'] == 'srp_phat', 'loc_method'] = 'SRP-PHAT'\n",
    "nice_plot_df.loc[nice_plot_df['loc_method'] == 'music_s-1', 'loc_method'] = 'MUSIC-1'\n",
    "# nice_plot_df.loc[nice_plot_df['loc_method'] == 'alpha-1.2_beta-1_eps-1E-3_iter-500', 'loc_method'] = 'SHAMaNS-1.2'\n",
    "nice_plot_df.loc[nice_plot_df['loc_method'] == 'alpha-X.X_beta-1_eps-1E-3_iter-500', 'loc_method'] = 'SHAMaNS'\n",
    "\n",
    "nice_plot_df.loc[nice_plot_df['sv_model'] == 'ref', 'sv_model'] = 'Ref.'\n",
    "nice_plot_df.loc[nice_plot_df['sv_model'] == 'alg', 'sv_model'] = 'Alg.'\n",
    "nice_plot_df.loc[nice_plot_df['sv_model'] == 'gp-steerer_32', 'sv_model'] = 'NS-32'\n",
    "\n",
    "\n",
    "print(nice_plot_df['loc_method'].unique())\n",
    "print(nice_plot_df['sv_model'].unique())\n",
    "print(nice_plot_df['rt60'].unique())\n",
    "\n",
    "algo_order = ['SRP-PHAT', 'MUSIC-1', 'SHAMaNS']\n",
    "# algo_order = ['SRP-PHAT', 'MUSIC-1', 'SHAMaNS-1.2', 'SHAMaNS-est']\n",
    "n_algos = len(algo_order)\n"
   ]
  },
  {
   "cell_type": "code",
   "execution_count": 34,
   "metadata": {},
   "outputs": [
    {
     "name": "stderr",
     "output_type": "stream",
     "text": [
      "/tmp/ipykernel_580353/1317427052.py:19: FutureWarning: The provided callable <function mean at 0x7f0a080f2af0> is currently using DataFrameGroupBy.mean. In a future version of pandas, the provided callable will be used directly. To keep current behavior pass the string \"mean\" instead.\n",
      "  perf = pd.pivot_table(\n"
     ]
    },
    {
     "data": {
      "image/png": "[encoded data removed]",
      "text/plain": [
       "<Figure size 800x200 with 3 Axes>"
      ]
     },
     "metadata": {},
     "output_type": "display_data"
    }
   ],
   "source": [
    "sns.set(style='whitegrid', context='paper', font_scale=1.5,\n",
    "        rc={\n",
    "            # 'figure.figsize':(3.5,3.15), \n",
    "            'lines.linewidth':2.,\n",
    "            'font.family': 'sans-serif',\n",
    "            'font.size': 16,\n",
    "            'text.usetex': False,\n",
    "            })\n",
    "pal = sns.cubehelix_palette(n_algos, start=0.5, rot=-0.5,dark=0.3, light=.75, reverse=True, hue=1.)\n",
    "sns.set_palette(pal)\n",
    "\n",
    "rt60s = nice_plot_df['rt60'].unique()\n",
    "sv_models = nice_plot_df['sv_model'].unique()\n",
    "\n",
    "fig, axarr = plt.subplots(1, len(sv_models), figsize=(8, 2), sharey=True, squeeze=False)\n",
    "\n",
    "i= 0\n",
    "\n",
    "perf = pd.pivot_table(\n",
    "    nice_plot_df, \n",
    "    values='ang_error', \n",
    "    index=['rt60'], \n",
    "    columns=['loc_method', 'sv_model'], \n",
    "    aggfunc=np.mean\n",
    ")\n",
    "\n",
    "markers=['^','o','*','s','d','v'][:n_algos]\n",
    "\n",
    "for j, sv_model in enumerate(sv_models):\n",
    "\n",
    "\n",
    "    for alg,mkr in zip(algo_order, markers):\n",
    "        axarr[i,j].plot(perf.index, perf[alg,sv_model], marker=mkr, clip_on=True, label=alg)\n",
    "\n",
    "    # remove the x-grid\n",
    "    axarr[i,j].xaxis.grid(False)\n",
    "    \n",
    "\n",
    "    # nice legend box\n",
    "    if j == 2:\n",
    "        axarr[i,j].legend(algo_order, title='Loc. method', frameon=True, framealpha=0.6)\n",
    "        handles, labels = axarr[i,j].get_legend_handles_labels()\n",
    "        # print(handles, labels)\n",
    "        axarr[i,j].legend_.remove()\n",
    "    else:\n",
    "        pass\n",
    "\n",
    "    # set all the labels\n",
    "    axarr[i,j].set_xlabel('RT60 [sec]')\n",
    "    if j == 0:\n",
    "        axarr[i,j].set_ylabel(r\"$\\leftarrow$\" + 'Angle Error [$^\\circ$]')\n",
    "    else:\n",
    "        axarr[i,j].set_ylabel('')\n",
    "\n",
    "    if j == 1:\n",
    "        axarr[i,j].text(0.52, 45, r'$\\uparrow$' + 'SHAMaNS > 45' + r\"$^\\circ$\", color='k', fontsize=10, \n",
    "                    ha='left', va='center', alpha=0.8)\n",
    "\n",
    "    \n",
    "    axarr[i,j].set_ylim([-0.5, 50]) \n",
    "    axarr[i,j].set_xlim([0.123, 1.33]) \n",
    "    axarr[i,j].set_xticks([0, 0.4, 0.8, 1.2])\n",
    "    \n",
    "    sns.despine(offset=10, trim=False, left=True, bottom=True, ax=axarr[i,j])\n",
    "\n",
    "plt.tight_layout(pad=0)\n",
    "plt.savefig('./eusipco2025_exp-2_rt60-sweep_accuracy.pdf', bbox_inches='tight')"
   ]
  },
  {
   "cell_type": "code",
   "execution_count": null,
   "metadata": {},
   "outputs": [],
   "source": []
  },
  {
   "cell_type": "code",
   "execution_count": null,
   "metadata": {},
   "outputs": [],
   "source": []
  }
 ],
 "metadata": {
  "kernelspec": {
   "display_name": "shamans_env",
   "language": "python",
   "name": "python3"
  },
  "language_info": {
   "codemirror_mode": {
    "name": "ipython",
    "version": 3
   },
   "file_extension": ".py",
   "mimetype": "text/x-python",
   "name": "python",
   "nbconvert_exporter": "python",
   "pygments_lexer": "ipython3",
   "version": "3.9.21"
  }
 },
 "nbformat": 4,
 "nbformat_minor": 2
}
