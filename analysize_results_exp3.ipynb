{
 "cells": [
  {
   "cell_type": "code",
   "execution_count": 15,
   "metadata": {},
   "outputs": [],
   "source": [
    "import numpy as np\n",
    "import pandas as pd\n",
    "import matplotlib.pyplot as plt\n",
    "import seaborn as sns"
   ]
  },
  {
   "cell_type": "code",
   "execution_count": 16,
   "metadata": {},
   "outputs": [],
   "source": [
    "# load data\n",
    "df = pd.read_csv('results/experiment_results_exp-3.csv')\n",
    "df.columns\n",
    "\n",
    "# compute accuracy and recall for each doas estimated by each method within a threshold of 10 degrees\n",
    "\n",
    "def calc_ae(a,b):\n",
    "    x = np.abs(a-b)\n",
    "    return np.min(np.array((x, np.abs(360-x))), axis=0)\n",
    "\n",
    "df['ang_error'] = calc_ae(\n",
    "    np.rad2deg(df['doas_est_az']), \n",
    "    np.rad2deg(df['doas_ref_az'])\n",
    ")\n",
    "\n",
    "ang_error_threshold = [5, 10, 15, 20, 25, 30]\n",
    "for thr in ang_error_threshold:\n",
    "    df[f'ang_error_less_{thr}'] = df['ang_error'] <= thr\n",
    "\n",
    "# compute accuracy and recall based on the frame id as in DCASE Task 3\n",
    "unique_frame_ids = df['frame_id'].unique()\n",
    "\n",
    "for frame_id in unique_frame_ids:\n",
    "    df_frame = df[df['frame_id'] == frame_id]\n",
    "        \n",
    "    # for each method\n",
    "    method_ids = df_frame['method_id'].unique()\n",
    "    \n",
    "    for method_id in method_ids:\n",
    "        df_method = df_frame[df_frame['method_id'] == method_id]    \n",
    "        \n",
    "        nSrcs = df_method['n_sources'].values[0]\n",
    "        assert len(df_method) == np.unique(df_method['doas_est_az']).shape[0] == np.unique(df_method['n_sources'])\n",
    "        \n",
    "        # accuracy\n",
    "        for thr in ang_error_threshold:\n",
    "            accuracy = np.sum(df_method[f'ang_error_less_{thr}']) / len(df_method)\n",
    "            df.loc[df_method.index, f'accuracy_{thr}'] = accuracy\n",
    "            \n",
    "            # error as the mean angular error for the matched doa\n",
    "            error = np.mean(df_method[df_method[f'ang_error_less_{thr}']]['ang_error'])\n",
    "            df.loc[df_method.index, f'mean_error_{thr}'] = error\n",
    "            "
   ]
  },
  {
   "cell_type": "code",
   "execution_count": 17,
   "metadata": {},
   "outputs": [
    {
     "name": "stdout",
     "output_type": "stream",
     "text": [
      "accuracy_5 - the higher the better\n"
     ]
    },
    {
     "data": {
      "text/html": [
       "<style type=\"text/css\">\n",
       "#T_7fb6a_row0_col0, #T_7fb6a_row1_col0, #T_7fb6a_row2_col0, #T_7fb6a_row3_col0, #T_7fb6a_row4_col0, #T_7fb6a_row5_col0, #T_7fb6a_row6_col0, #T_7fb6a_row7_col0, #T_7fb6a_row8_col0, #T_7fb6a_row9_col0, #T_7fb6a_row10_col0, #T_7fb6a_row11_col0, #T_7fb6a_row12_col0, #T_7fb6a_row13_col0, #T_7fb6a_row14_col0, #T_7fb6a_row15_col0, #T_7fb6a_row16_col0, #T_7fb6a_row17_col0, #T_7fb6a_row18_col0, #T_7fb6a_row19_col0, #T_7fb6a_row20_col0, #T_7fb6a_row21_col0, #T_7fb6a_row22_col0, #T_7fb6a_row23_col0, #T_7fb6a_row24_col0, #T_7fb6a_row25_col0, #T_7fb6a_row26_col0, #T_7fb6a_row27_col0 {\n",
       "  background-color: #440154;\n",
       "  color: #f1f1f1;\n",
       "}\n",
       "</style>\n",
       "<table id=\"T_7fb6a\">\n",
       "  <thead>\n",
       "    <tr>\n",
       "      <th class=\"blank\" >&nbsp;</th>\n",
       "      <th class=\"blank\" >&nbsp;</th>\n",
       "      <th class=\"blank\" >&nbsp;</th>\n",
       "      <th class=\"index_name level0\" >n_sources</th>\n",
       "      <th id=\"T_7fb6a_level0_col0\" class=\"col_heading level0 col0\" >1</th>\n",
       "    </tr>\n",
       "    <tr>\n",
       "      <th class=\"index_name level0\" >sv_method</th>\n",
       "      <th class=\"index_name level1\" >nObs</th>\n",
       "      <th class=\"index_name level2\" >seed</th>\n",
       "      <th class=\"index_name level3\" >loc_method</th>\n",
       "      <th class=\"blank col0\" >&nbsp;</th>\n",
       "    </tr>\n",
       "  </thead>\n",
       "  <tbody>\n",
       "    <tr>\n",
       "      <th id=\"T_7fb6a_level0_row0\" class=\"row_heading level0 row0\" rowspan=\"4\">alg</th>\n",
       "      <th id=\"T_7fb6a_level1_row0\" class=\"row_heading level1 row0\" rowspan=\"4\">8</th>\n",
       "      <th id=\"T_7fb6a_level2_row0\" class=\"row_heading level2 row0\" rowspan=\"4\">13</th>\n",
       "      <th id=\"T_7fb6a_level3_row0\" class=\"row_heading level3 row0\" >inv_wishart</th>\n",
       "      <td id=\"T_7fb6a_row0_col0\" class=\"data row0 col0\" >0.333333</td>\n",
       "    </tr>\n",
       "    <tr>\n",
       "      <th id=\"T_7fb6a_level3_row1\" class=\"row_heading level3 row1\" >music</th>\n",
       "      <td id=\"T_7fb6a_row1_col0\" class=\"data row1 col0\" >0.250000</td>\n",
       "    </tr>\n",
       "    <tr>\n",
       "      <th id=\"T_7fb6a_level3_row2\" class=\"row_heading level3 row2\" >srp_phat</th>\n",
       "      <td id=\"T_7fb6a_row2_col0\" class=\"data row2 col0\" >0.250000</td>\n",
       "    </tr>\n",
       "    <tr>\n",
       "      <th id=\"T_7fb6a_level3_row3\" class=\"row_heading level3 row3\" >wishart</th>\n",
       "      <td id=\"T_7fb6a_row3_col0\" class=\"data row3 col0\" >0.250000</td>\n",
       "    </tr>\n",
       "    <tr>\n",
       "      <th id=\"T_7fb6a_level0_row4\" class=\"row_heading level0 row4\" rowspan=\"20\">gp-steerer</th>\n",
       "      <th id=\"T_7fb6a_level1_row4\" class=\"row_heading level1 row4\" rowspan=\"4\">8</th>\n",
       "      <th id=\"T_7fb6a_level2_row4\" class=\"row_heading level2 row4\" rowspan=\"4\">13</th>\n",
       "      <th id=\"T_7fb6a_level3_row4\" class=\"row_heading level3 row4\" >inv_wishart</th>\n",
       "      <td id=\"T_7fb6a_row4_col0\" class=\"data row4 col0\" >0.666667</td>\n",
       "    </tr>\n",
       "    <tr>\n",
       "      <th id=\"T_7fb6a_level3_row5\" class=\"row_heading level3 row5\" >music</th>\n",
       "      <td id=\"T_7fb6a_row5_col0\" class=\"data row5 col0\" >0.500000</td>\n",
       "    </tr>\n",
       "    <tr>\n",
       "      <th id=\"T_7fb6a_level3_row6\" class=\"row_heading level3 row6\" >srp_phat</th>\n",
       "      <td id=\"T_7fb6a_row6_col0\" class=\"data row6 col0\" >0.500000</td>\n",
       "    </tr>\n",
       "    <tr>\n",
       "      <th id=\"T_7fb6a_level3_row7\" class=\"row_heading level3 row7\" >wishart</th>\n",
       "      <td id=\"T_7fb6a_row7_col0\" class=\"data row7 col0\" >0.666667</td>\n",
       "    </tr>\n",
       "    <tr>\n",
       "      <th id=\"T_7fb6a_level1_row8\" class=\"row_heading level1 row8\" rowspan=\"4\">16</th>\n",
       "      <th id=\"T_7fb6a_level2_row8\" class=\"row_heading level2 row8\" rowspan=\"4\">13</th>\n",
       "      <th id=\"T_7fb6a_level3_row8\" class=\"row_heading level3 row8\" >inv_wishart</th>\n",
       "      <td id=\"T_7fb6a_row8_col0\" class=\"data row8 col0\" >0.666667</td>\n",
       "    </tr>\n",
       "    <tr>\n",
       "      <th id=\"T_7fb6a_level3_row9\" class=\"row_heading level3 row9\" >music</th>\n",
       "      <td id=\"T_7fb6a_row9_col0\" class=\"data row9 col0\" >0.500000</td>\n",
       "    </tr>\n",
       "    <tr>\n",
       "      <th id=\"T_7fb6a_level3_row10\" class=\"row_heading level3 row10\" >srp_phat</th>\n",
       "      <td id=\"T_7fb6a_row10_col0\" class=\"data row10 col0\" >0.750000</td>\n",
       "    </tr>\n",
       "    <tr>\n",
       "      <th id=\"T_7fb6a_level3_row11\" class=\"row_heading level3 row11\" >wishart</th>\n",
       "      <td id=\"T_7fb6a_row11_col0\" class=\"data row11 col0\" >0.666667</td>\n",
       "    </tr>\n",
       "    <tr>\n",
       "      <th id=\"T_7fb6a_level1_row12\" class=\"row_heading level1 row12\" rowspan=\"4\">32</th>\n",
       "      <th id=\"T_7fb6a_level2_row12\" class=\"row_heading level2 row12\" rowspan=\"4\">13</th>\n",
       "      <th id=\"T_7fb6a_level3_row12\" class=\"row_heading level3 row12\" >inv_wishart</th>\n",
       "      <td id=\"T_7fb6a_row12_col0\" class=\"data row12 col0\" >1.000000</td>\n",
       "    </tr>\n",
       "    <tr>\n",
       "      <th id=\"T_7fb6a_level3_row13\" class=\"row_heading level3 row13\" >music</th>\n",
       "      <td id=\"T_7fb6a_row13_col0\" class=\"data row13 col0\" >0.750000</td>\n",
       "    </tr>\n",
       "    <tr>\n",
       "      <th id=\"T_7fb6a_level3_row14\" class=\"row_heading level3 row14\" >srp_phat</th>\n",
       "      <td id=\"T_7fb6a_row14_col0\" class=\"data row14 col0\" >1.000000</td>\n",
       "    </tr>\n",
       "    <tr>\n",
       "      <th id=\"T_7fb6a_level3_row15\" class=\"row_heading level3 row15\" >wishart</th>\n",
       "      <td id=\"T_7fb6a_row15_col0\" class=\"data row15 col0\" >1.000000</td>\n",
       "    </tr>\n",
       "    <tr>\n",
       "      <th id=\"T_7fb6a_level1_row16\" class=\"row_heading level1 row16\" rowspan=\"4\">64</th>\n",
       "      <th id=\"T_7fb6a_level2_row16\" class=\"row_heading level2 row16\" rowspan=\"4\">13</th>\n",
       "      <th id=\"T_7fb6a_level3_row16\" class=\"row_heading level3 row16\" >inv_wishart</th>\n",
       "      <td id=\"T_7fb6a_row16_col0\" class=\"data row16 col0\" >1.000000</td>\n",
       "    </tr>\n",
       "    <tr>\n",
       "      <th id=\"T_7fb6a_level3_row17\" class=\"row_heading level3 row17\" >music</th>\n",
       "      <td id=\"T_7fb6a_row17_col0\" class=\"data row17 col0\" >1.000000</td>\n",
       "    </tr>\n",
       "    <tr>\n",
       "      <th id=\"T_7fb6a_level3_row18\" class=\"row_heading level3 row18\" >srp_phat</th>\n",
       "      <td id=\"T_7fb6a_row18_col0\" class=\"data row18 col0\" >1.000000</td>\n",
       "    </tr>\n",
       "    <tr>\n",
       "      <th id=\"T_7fb6a_level3_row19\" class=\"row_heading level3 row19\" >wishart</th>\n",
       "      <td id=\"T_7fb6a_row19_col0\" class=\"data row19 col0\" >1.000000</td>\n",
       "    </tr>\n",
       "    <tr>\n",
       "      <th id=\"T_7fb6a_level1_row20\" class=\"row_heading level1 row20\" rowspan=\"4\">128</th>\n",
       "      <th id=\"T_7fb6a_level2_row20\" class=\"row_heading level2 row20\" rowspan=\"4\">13</th>\n",
       "      <th id=\"T_7fb6a_level3_row20\" class=\"row_heading level3 row20\" >inv_wishart</th>\n",
       "      <td id=\"T_7fb6a_row20_col0\" class=\"data row20 col0\" >1.000000</td>\n",
       "    </tr>\n",
       "    <tr>\n",
       "      <th id=\"T_7fb6a_level3_row21\" class=\"row_heading level3 row21\" >music</th>\n",
       "      <td id=\"T_7fb6a_row21_col0\" class=\"data row21 col0\" >1.000000</td>\n",
       "    </tr>\n",
       "    <tr>\n",
       "      <th id=\"T_7fb6a_level3_row22\" class=\"row_heading level3 row22\" >srp_phat</th>\n",
       "      <td id=\"T_7fb6a_row22_col0\" class=\"data row22 col0\" >1.000000</td>\n",
       "    </tr>\n",
       "    <tr>\n",
       "      <th id=\"T_7fb6a_level3_row23\" class=\"row_heading level3 row23\" >wishart</th>\n",
       "      <td id=\"T_7fb6a_row23_col0\" class=\"data row23 col0\" >1.000000</td>\n",
       "    </tr>\n",
       "    <tr>\n",
       "      <th id=\"T_7fb6a_level0_row24\" class=\"row_heading level0 row24\" rowspan=\"4\">ref</th>\n",
       "      <th id=\"T_7fb6a_level1_row24\" class=\"row_heading level1 row24\" rowspan=\"4\">8</th>\n",
       "      <th id=\"T_7fb6a_level2_row24\" class=\"row_heading level2 row24\" rowspan=\"4\">13</th>\n",
       "      <th id=\"T_7fb6a_level3_row24\" class=\"row_heading level3 row24\" >inv_wishart</th>\n",
       "      <td id=\"T_7fb6a_row24_col0\" class=\"data row24 col0\" >1.000000</td>\n",
       "    </tr>\n",
       "    <tr>\n",
       "      <th id=\"T_7fb6a_level3_row25\" class=\"row_heading level3 row25\" >music</th>\n",
       "      <td id=\"T_7fb6a_row25_col0\" class=\"data row25 col0\" >1.000000</td>\n",
       "    </tr>\n",
       "    <tr>\n",
       "      <th id=\"T_7fb6a_level3_row26\" class=\"row_heading level3 row26\" >srp_phat</th>\n",
       "      <td id=\"T_7fb6a_row26_col0\" class=\"data row26 col0\" >1.000000</td>\n",
       "    </tr>\n",
       "    <tr>\n",
       "      <th id=\"T_7fb6a_level3_row27\" class=\"row_heading level3 row27\" >wishart</th>\n",
       "      <td id=\"T_7fb6a_row27_col0\" class=\"data row27 col0\" >1.000000</td>\n",
       "    </tr>\n",
       "  </tbody>\n",
       "</table>\n"
      ],
      "text/plain": [
       "<pandas.io.formats.style.Styler at 0x19f658df0>"
      ]
     },
     "execution_count": 17,
     "metadata": {},
     "output_type": "execute_result"
    }
   ],
   "source": [
    "print('accuracy_5 - the higher the better')\n",
    "df_pivot = df[\n",
    " df['seed'] == 13\n",
    "].pivot_table(\n",
    "        values='accuracy_10', \n",
    "        columns=['n_sources'],\n",
    "        index=['sv_method', 'nObs', 'seed', 'loc_method'], \n",
    "        aggfunc='mean'\n",
    ")\n",
    "df_pivot\n",
    "df_pivot.style.background_gradient(cmap='viridis', axis=1)"
   ]
  },
  {
   "cell_type": "code",
   "execution_count": 18,
   "metadata": {},
   "outputs": [
    {
     "name": "stdout",
     "output_type": "stream",
     "text": [
      "accuracy_10 - the higher the better\n"
     ]
    },
    {
     "data": {
      "text/html": [
       "<style type=\"text/css\">\n",
       "#T_811ea_row0_col0, #T_811ea_row1_col0, #T_811ea_row2_col0, #T_811ea_row3_col0, #T_811ea_row4_col0, #T_811ea_row5_col0, #T_811ea_row6_col0, #T_811ea_row7_col0 {\n",
       "  background-color: #440154;\n",
       "  color: #f1f1f1;\n",
       "}\n",
       "</style>\n",
       "<table id=\"T_811ea\">\n",
       "  <thead>\n",
       "    <tr>\n",
       "      <th class=\"blank\" >&nbsp;</th>\n",
       "      <th class=\"index_name level0\" >n_sources</th>\n",
       "      <th id=\"T_811ea_level0_col0\" class=\"col_heading level0 col0\" >1</th>\n",
       "    </tr>\n",
       "    <tr>\n",
       "      <th class=\"index_name level0\" >loc_method</th>\n",
       "      <th class=\"index_name level1\" >sv_method</th>\n",
       "      <th class=\"blank col0\" >&nbsp;</th>\n",
       "    </tr>\n",
       "  </thead>\n",
       "  <tbody>\n",
       "    <tr>\n",
       "      <th id=\"T_811ea_level0_row0\" class=\"row_heading level0 row0\" rowspan=\"2\">inv_wishart</th>\n",
       "      <th id=\"T_811ea_level1_row0\" class=\"row_heading level1 row0\" >alg</th>\n",
       "      <td id=\"T_811ea_row0_col0\" class=\"data row0 col0\" >0.333333</td>\n",
       "    </tr>\n",
       "    <tr>\n",
       "      <th id=\"T_811ea_level1_row1\" class=\"row_heading level1 row1\" >ref</th>\n",
       "      <td id=\"T_811ea_row1_col0\" class=\"data row1 col0\" >1.000000</td>\n",
       "    </tr>\n",
       "    <tr>\n",
       "      <th id=\"T_811ea_level0_row2\" class=\"row_heading level0 row2\" rowspan=\"2\">music</th>\n",
       "      <th id=\"T_811ea_level1_row2\" class=\"row_heading level1 row2\" >alg</th>\n",
       "      <td id=\"T_811ea_row2_col0\" class=\"data row2 col0\" >0.250000</td>\n",
       "    </tr>\n",
       "    <tr>\n",
       "      <th id=\"T_811ea_level1_row3\" class=\"row_heading level1 row3\" >ref</th>\n",
       "      <td id=\"T_811ea_row3_col0\" class=\"data row3 col0\" >1.000000</td>\n",
       "    </tr>\n",
       "    <tr>\n",
       "      <th id=\"T_811ea_level0_row4\" class=\"row_heading level0 row4\" rowspan=\"2\">srp_phat</th>\n",
       "      <th id=\"T_811ea_level1_row4\" class=\"row_heading level1 row4\" >alg</th>\n",
       "      <td id=\"T_811ea_row4_col0\" class=\"data row4 col0\" >0.250000</td>\n",
       "    </tr>\n",
       "    <tr>\n",
       "      <th id=\"T_811ea_level1_row5\" class=\"row_heading level1 row5\" >ref</th>\n",
       "      <td id=\"T_811ea_row5_col0\" class=\"data row5 col0\" >1.000000</td>\n",
       "    </tr>\n",
       "    <tr>\n",
       "      <th id=\"T_811ea_level0_row6\" class=\"row_heading level0 row6\" rowspan=\"2\">wishart</th>\n",
       "      <th id=\"T_811ea_level1_row6\" class=\"row_heading level1 row6\" >alg</th>\n",
       "      <td id=\"T_811ea_row6_col0\" class=\"data row6 col0\" >0.250000</td>\n",
       "    </tr>\n",
       "    <tr>\n",
       "      <th id=\"T_811ea_level1_row7\" class=\"row_heading level1 row7\" >ref</th>\n",
       "      <td id=\"T_811ea_row7_col0\" class=\"data row7 col0\" >1.000000</td>\n",
       "    </tr>\n",
       "  </tbody>\n",
       "</table>\n"
      ],
      "text/plain": [
       "<pandas.io.formats.style.Styler at 0x111fd8a00>"
      ]
     },
     "execution_count": 18,
     "metadata": {},
     "output_type": "execute_result"
    }
   ],
   "source": [
    "print('accuracy_10 - the higher the better')\n",
    "df[\n",
    "        df['sv_method'].isin([\"alg\", \"ref\"])\n",
    "].pivot_table(\n",
    "        values='accuracy_10', \n",
    "        columns=['n_sources'],\n",
    "        index=['loc_method' , 'sv_method'], \n",
    "        aggfunc='mean'\n",
    ").style.background_gradient(cmap='viridis', axis=1)"
   ]
  },
  {
   "cell_type": "code",
   "execution_count": 19,
   "metadata": {},
   "outputs": [
    {
     "name": "stdout",
     "output_type": "stream",
     "text": [
      "error_5 - the lower the better\n"
     ]
    },
    {
     "data": {
      "text/html": [
       "<style type=\"text/css\">\n",
       "#T_80948_row0_col0, #T_80948_row1_col0, #T_80948_row2_col0, #T_80948_row3_col0 {\n",
       "  background-color: #440154;\n",
       "  color: #f1f1f1;\n",
       "}\n",
       "</style>\n",
       "<table id=\"T_80948\">\n",
       "  <thead>\n",
       "    <tr>\n",
       "      <th class=\"blank\" >&nbsp;</th>\n",
       "      <th class=\"index_name level0\" >n_sources</th>\n",
       "      <th id=\"T_80948_level0_col0\" class=\"col_heading level0 col0\" >1</th>\n",
       "    </tr>\n",
       "    <tr>\n",
       "      <th class=\"index_name level0\" >loc_method</th>\n",
       "      <th class=\"index_name level1\" >sv_method</th>\n",
       "      <th class=\"blank col0\" >&nbsp;</th>\n",
       "    </tr>\n",
       "  </thead>\n",
       "  <tbody>\n",
       "    <tr>\n",
       "      <th id=\"T_80948_level0_row0\" class=\"row_heading level0 row0\" >inv_wishart</th>\n",
       "      <th id=\"T_80948_level1_row0\" class=\"row_heading level1 row0\" >ref</th>\n",
       "      <td id=\"T_80948_row0_col0\" class=\"data row0 col0\" >0.000000</td>\n",
       "    </tr>\n",
       "    <tr>\n",
       "      <th id=\"T_80948_level0_row1\" class=\"row_heading level0 row1\" >music</th>\n",
       "      <th id=\"T_80948_level1_row1\" class=\"row_heading level1 row1\" >ref</th>\n",
       "      <td id=\"T_80948_row1_col0\" class=\"data row1 col0\" >0.000000</td>\n",
       "    </tr>\n",
       "    <tr>\n",
       "      <th id=\"T_80948_level0_row2\" class=\"row_heading level0 row2\" >srp_phat</th>\n",
       "      <th id=\"T_80948_level1_row2\" class=\"row_heading level1 row2\" >ref</th>\n",
       "      <td id=\"T_80948_row2_col0\" class=\"data row2 col0\" >0.000000</td>\n",
       "    </tr>\n",
       "    <tr>\n",
       "      <th id=\"T_80948_level0_row3\" class=\"row_heading level0 row3\" >wishart</th>\n",
       "      <th id=\"T_80948_level1_row3\" class=\"row_heading level1 row3\" >ref</th>\n",
       "      <td id=\"T_80948_row3_col0\" class=\"data row3 col0\" >0.000000</td>\n",
       "    </tr>\n",
       "  </tbody>\n",
       "</table>\n"
      ],
      "text/plain": [
       "<pandas.io.formats.style.Styler at 0x19fcf1700>"
      ]
     },
     "execution_count": 19,
     "metadata": {},
     "output_type": "execute_result"
    }
   ],
   "source": [
    "print('error_5 - the lower the better')\n",
    "df[\n",
    "        df['sv_method'].isin([\"alg\", \"ref\"])\n",
    "].pivot_table(\n",
    "        values='mean_error_5', \n",
    "        columns=['n_sources'],\n",
    "        index=['loc_method' , 'sv_method'], \n",
    "        aggfunc='mean'\n",
    ").style.background_gradient(cmap='viridis', axis=1)     "
   ]
  },
  {
   "cell_type": "code",
   "execution_count": 20,
   "metadata": {},
   "outputs": [
    {
     "name": "stdout",
     "output_type": "stream",
     "text": [
      "error_10 - the lower the better\n"
     ]
    },
    {
     "data": {
      "text/html": [
       "<style type=\"text/css\">\n",
       "#T_3cffd_row0_col0, #T_3cffd_row1_col0, #T_3cffd_row2_col0, #T_3cffd_row3_col0, #T_3cffd_row4_col0, #T_3cffd_row5_col0, #T_3cffd_row6_col0, #T_3cffd_row7_col0 {\n",
       "  background-color: #440154;\n",
       "  color: #f1f1f1;\n",
       "}\n",
       "</style>\n",
       "<table id=\"T_3cffd\">\n",
       "  <thead>\n",
       "    <tr>\n",
       "      <th class=\"blank\" >&nbsp;</th>\n",
       "      <th class=\"index_name level0\" >n_sources</th>\n",
       "      <th id=\"T_3cffd_level0_col0\" class=\"col_heading level0 col0\" >1</th>\n",
       "    </tr>\n",
       "    <tr>\n",
       "      <th class=\"index_name level0\" >loc_method</th>\n",
       "      <th class=\"index_name level1\" >sv_method</th>\n",
       "      <th class=\"blank col0\" >&nbsp;</th>\n",
       "    </tr>\n",
       "  </thead>\n",
       "  <tbody>\n",
       "    <tr>\n",
       "      <th id=\"T_3cffd_level0_row0\" class=\"row_heading level0 row0\" rowspan=\"2\">inv_wishart</th>\n",
       "      <th id=\"T_3cffd_level1_row0\" class=\"row_heading level1 row0\" >alg</th>\n",
       "      <td id=\"T_3cffd_row0_col0\" class=\"data row0 col0\" >6.000000</td>\n",
       "    </tr>\n",
       "    <tr>\n",
       "      <th id=\"T_3cffd_level1_row1\" class=\"row_heading level1 row1\" >ref</th>\n",
       "      <td id=\"T_3cffd_row1_col0\" class=\"data row1 col0\" >0.000000</td>\n",
       "    </tr>\n",
       "    <tr>\n",
       "      <th id=\"T_3cffd_level0_row2\" class=\"row_heading level0 row2\" rowspan=\"2\">music</th>\n",
       "      <th id=\"T_3cffd_level1_row2\" class=\"row_heading level1 row2\" >alg</th>\n",
       "      <td id=\"T_3cffd_row2_col0\" class=\"data row2 col0\" >6.000000</td>\n",
       "    </tr>\n",
       "    <tr>\n",
       "      <th id=\"T_3cffd_level1_row3\" class=\"row_heading level1 row3\" >ref</th>\n",
       "      <td id=\"T_3cffd_row3_col0\" class=\"data row3 col0\" >0.000000</td>\n",
       "    </tr>\n",
       "    <tr>\n",
       "      <th id=\"T_3cffd_level0_row4\" class=\"row_heading level0 row4\" rowspan=\"2\">srp_phat</th>\n",
       "      <th id=\"T_3cffd_level1_row4\" class=\"row_heading level1 row4\" >alg</th>\n",
       "      <td id=\"T_3cffd_row4_col0\" class=\"data row4 col0\" >6.000000</td>\n",
       "    </tr>\n",
       "    <tr>\n",
       "      <th id=\"T_3cffd_level1_row5\" class=\"row_heading level1 row5\" >ref</th>\n",
       "      <td id=\"T_3cffd_row5_col0\" class=\"data row5 col0\" >0.000000</td>\n",
       "    </tr>\n",
       "    <tr>\n",
       "      <th id=\"T_3cffd_level0_row6\" class=\"row_heading level0 row6\" rowspan=\"2\">wishart</th>\n",
       "      <th id=\"T_3cffd_level1_row6\" class=\"row_heading level1 row6\" >alg</th>\n",
       "      <td id=\"T_3cffd_row6_col0\" class=\"data row6 col0\" >6.000000</td>\n",
       "    </tr>\n",
       "    <tr>\n",
       "      <th id=\"T_3cffd_level1_row7\" class=\"row_heading level1 row7\" >ref</th>\n",
       "      <td id=\"T_3cffd_row7_col0\" class=\"data row7 col0\" >0.000000</td>\n",
       "    </tr>\n",
       "  </tbody>\n",
       "</table>\n"
      ],
      "text/plain": [
       "<pandas.io.formats.style.Styler at 0x19f658d30>"
      ]
     },
     "execution_count": 20,
     "metadata": {},
     "output_type": "execute_result"
    }
   ],
   "source": [
    "print('error_10 - the lower the better')\n",
    "df[\n",
    "        df['sv_method'].isin([\"alg\", \"ref\"])\n",
    "].pivot_table(\n",
    "        values='mean_error_10', \n",
    "        columns=['n_sources'],\n",
    "        index=['loc_method' , 'sv_method'], \n",
    "        aggfunc='mean'\n",
    ").style.background_gradient(cmap='viridis', axis=1)"
   ]
  },
  {
   "cell_type": "code",
   "execution_count": 21,
   "metadata": {},
   "outputs": [
    {
     "name": "stdout",
     "output_type": "stream",
     "text": [
      "error_15 - the lower the better\n"
     ]
    },
    {
     "data": {
      "text/html": [
       "<style type=\"text/css\">\n",
       "#T_0b1b2_row0_col0, #T_0b1b2_row1_col0, #T_0b1b2_row2_col0, #T_0b1b2_row3_col0, #T_0b1b2_row4_col0, #T_0b1b2_row5_col0, #T_0b1b2_row6_col0, #T_0b1b2_row7_col0 {\n",
       "  background-color: #440154;\n",
       "  color: #f1f1f1;\n",
       "}\n",
       "</style>\n",
       "<table id=\"T_0b1b2\">\n",
       "  <thead>\n",
       "    <tr>\n",
       "      <th class=\"blank\" >&nbsp;</th>\n",
       "      <th class=\"index_name level0\" >n_sources</th>\n",
       "      <th id=\"T_0b1b2_level0_col0\" class=\"col_heading level0 col0\" >1</th>\n",
       "    </tr>\n",
       "    <tr>\n",
       "      <th class=\"index_name level0\" >loc_method</th>\n",
       "      <th class=\"index_name level1\" >sv_method</th>\n",
       "      <th class=\"blank col0\" >&nbsp;</th>\n",
       "    </tr>\n",
       "  </thead>\n",
       "  <tbody>\n",
       "    <tr>\n",
       "      <th id=\"T_0b1b2_level0_row0\" class=\"row_heading level0 row0\" rowspan=\"2\">inv_wishart</th>\n",
       "      <th id=\"T_0b1b2_level1_row0\" class=\"row_heading level1 row0\" >alg</th>\n",
       "      <td id=\"T_0b1b2_row0_col0\" class=\"data row0 col0\" >9.000000</td>\n",
       "    </tr>\n",
       "    <tr>\n",
       "      <th id=\"T_0b1b2_level1_row1\" class=\"row_heading level1 row1\" >ref</th>\n",
       "      <td id=\"T_0b1b2_row1_col0\" class=\"data row1 col0\" >0.000000</td>\n",
       "    </tr>\n",
       "    <tr>\n",
       "      <th id=\"T_0b1b2_level0_row2\" class=\"row_heading level0 row2\" rowspan=\"2\">music</th>\n",
       "      <th id=\"T_0b1b2_level1_row2\" class=\"row_heading level1 row2\" >alg</th>\n",
       "      <td id=\"T_0b1b2_row2_col0\" class=\"data row2 col0\" >9.000000</td>\n",
       "    </tr>\n",
       "    <tr>\n",
       "      <th id=\"T_0b1b2_level1_row3\" class=\"row_heading level1 row3\" >ref</th>\n",
       "      <td id=\"T_0b1b2_row3_col0\" class=\"data row3 col0\" >0.000000</td>\n",
       "    </tr>\n",
       "    <tr>\n",
       "      <th id=\"T_0b1b2_level0_row4\" class=\"row_heading level0 row4\" rowspan=\"2\">srp_phat</th>\n",
       "      <th id=\"T_0b1b2_level1_row4\" class=\"row_heading level1 row4\" >alg</th>\n",
       "      <td id=\"T_0b1b2_row4_col0\" class=\"data row4 col0\" >9.000000</td>\n",
       "    </tr>\n",
       "    <tr>\n",
       "      <th id=\"T_0b1b2_level1_row5\" class=\"row_heading level1 row5\" >ref</th>\n",
       "      <td id=\"T_0b1b2_row5_col0\" class=\"data row5 col0\" >0.000000</td>\n",
       "    </tr>\n",
       "    <tr>\n",
       "      <th id=\"T_0b1b2_level0_row6\" class=\"row_heading level0 row6\" rowspan=\"2\">wishart</th>\n",
       "      <th id=\"T_0b1b2_level1_row6\" class=\"row_heading level1 row6\" >alg</th>\n",
       "      <td id=\"T_0b1b2_row6_col0\" class=\"data row6 col0\" >9.000000</td>\n",
       "    </tr>\n",
       "    <tr>\n",
       "      <th id=\"T_0b1b2_level1_row7\" class=\"row_heading level1 row7\" >ref</th>\n",
       "      <td id=\"T_0b1b2_row7_col0\" class=\"data row7 col0\" >0.000000</td>\n",
       "    </tr>\n",
       "  </tbody>\n",
       "</table>\n"
      ],
      "text/plain": [
       "<pandas.io.formats.style.Styler at 0x19f658d90>"
      ]
     },
     "execution_count": 21,
     "metadata": {},
     "output_type": "execute_result"
    }
   ],
   "source": [
    "print('error_15 - the lower the better')\n",
    "df[\n",
    "        df['sv_method'].isin([\"alg\", \"ref\"])\n",
    "].pivot_table(\n",
    "        values='mean_error_15', \n",
    "        columns=['n_sources'],\n",
    "        index=['loc_method' , 'sv_method'], \n",
    "        aggfunc='mean'\n",
    ").style.background_gradient(cmap='viridis', axis=1)     "
   ]
  },
  {
   "cell_type": "code",
   "execution_count": 22,
   "metadata": {},
   "outputs": [
    {
     "data": {
      "text/plain": [
       "[<matplotlib.lines.Line2D at 0x19fcfefd0>]"
      ]
     },
     "execution_count": 22,
     "metadata": {},
     "output_type": "execute_result"
    },
    {
     "data": {
      "image/png": "[encoded data removed]",
      "text/plain": [
       "<Figure size 640x480 with 1 Axes>"
      ]
     },
     "metadata": {},
     "output_type": "display_data"
    }
   ],
   "source": [
    "plt.plot(df[\n",
    "        (df['sv_method'].isin(['alg', 'ref']))\n",
    "        & (df['n_sources'].isin([1]))\n",
    "]['ang_error_less_5'])"
   ]
  },
  {
   "cell_type": "code",
   "execution_count": 23,
   "metadata": {},
   "outputs": [
    {
     "data": {
      "text/html": [
       "<style type=\"text/css\">\n",
       "</style>\n",
       "<table id=\"T_38846\">\n",
       "  <thead>\n",
       "    <tr>\n",
       "      <th class=\"index_name level0\" >loc_method</th>\n",
       "      <th class=\"index_name level1\" >noise_type</th>\n",
       "    </tr>\n",
       "  </thead>\n",
       "  <tbody>\n",
       "  </tbody>\n",
       "</table>\n"
      ],
      "text/plain": [
       "<pandas.io.formats.style.Styler at 0x19fc5ab80>"
      ]
     },
     "execution_count": 23,
     "metadata": {},
     "output_type": "execute_result"
    }
   ],
   "source": [
    "df[\n",
    "        (df['sv_method'].isin(['alg', 'ref']))\n",
    "        & (df['n_sources'].isin([2]))\n",
    "].pivot_table(\n",
    "        values='ang_error_less_5', \n",
    "        columns=['sv_method', 'nObs', 'seed', 'n_sources'],\n",
    "        index=['loc_method' , 'noise_type'], \n",
    "        aggfunc='mean'\n",
    ").style.background_gradient(cmap='viridis', axis=1)"
   ]
  },
  {
   "cell_type": "code",
   "execution_count": null,
   "metadata": {},
   "outputs": [],
   "source": []
  }
 ],
 "metadata": {
  "kernelspec": {
   "display_name": "shamans",
   "language": "python",
   "name": "python3"
  },
  "language_info": {
   "codemirror_mode": {
    "name": "ipython",
    "version": 3
   },
   "file_extension": ".py",
   "mimetype": "text/x-python",
   "name": "python",
   "nbconvert_exporter": "python",
   "pygments_lexer": "ipython3",
   "version": "3.9.21"
  }
 },
 "nbformat": 4,
 "nbformat_minor": 2
}
