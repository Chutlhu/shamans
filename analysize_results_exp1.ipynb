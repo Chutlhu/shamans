{
 "cells": [
  {
   "cell_type": "code",
   "execution_count": 1,
   "metadata": {},
   "outputs": [],
   "source": [
    "import numpy as np\n",
    "import pandas as pd\n",
    "import matplotlib.pyplot as plt\n",
    "import seaborn as sns\n",
    "\n",
    "from pathlib import Path\n",
    "\n",
    "from tqdm import tqdm\n",
    "\n",
    "from shamans.utils import eval_utils as eval"
   ]
  },
  {
   "cell_type": "code",
   "execution_count": 2,
   "metadata": {},
   "outputs": [],
   "source": [
    "# merge all the csv fo the experiments 1 for different runs\n",
    "def merge_csvs_and_get_dataframe(exp_id, path_to_results):\n",
    "    all_filenames = [i for i in path_to_results.glob(f'*_exp-{exp_id}_run-*.csv')]\n",
    "    combined_csv = pd.concat([pd.read_csv(f) for f in all_filenames])\n",
    "    combined_csv.to_csv(path_to_results / f\"experiment_results_exp-{exp_id}_all_runs.csv\", index=False, encoding='utf-8-sig')\n",
    "    return combined_csv"
   ]
  },
  {
   "cell_type": "code",
   "execution_count": 3,
   "metadata": {},
   "outputs": [],
   "source": [
    "# load data\n",
    "exp_id = 1\n",
    "path_to_results = Path('results/')\n",
    "exp_df = merge_csvs_and_get_dataframe(exp_id, path_to_results)"
   ]
  },
  {
   "cell_type": "code",
   "execution_count": null,
   "metadata": {},
   "outputs": [],
   "source": [
    "# compute accuracy and recall for each doas estimated by each method within a threshold of 10 degrees\n",
    "\n",
    "def calc_ae(a,b):\n",
    "    x = np.abs(a-b)\n",
    "    return np.min(np.array((x, np.abs(360-x))), axis=0)\n",
    "\n",
    "exp_df['ang_error'] = calc_ae(\n",
    "    np.rad2deg(exp_df['doas_est_az']), \n",
    "    np.rad2deg(exp_df['doas_ref_az'])\n",
    ")\n",
    "\n"
   ]
  },
  {
   "cell_type": "code",
   "execution_count": null,
   "metadata": {},
   "outputs": [],
   "source": [
    "# n_sources_choice = [1]\n",
    "# source_type_choices = ['speech']\n",
    "# snr_choices = np.arange(-30, 31, 10).tolist()\n",
    "# noise_type_choices = ['awgn', 'alpha-1.2', 'alpha-0.8']\n",
    "# sound_duration_choices = [0.5]\n",
    "# add_reverb_choices = [False]"
   ]
  },
  {
   "cell_type": "code",
   "execution_count": 30,
   "metadata": {},
   "outputs": [
    {
     "name": "stdout",
     "output_type": "stream",
     "text": [
      "['awgn' 'alpha-1.2' 'alpha-0.8']\n",
      "noise_type: awgn\n"
     ]
    },
    {
     "ename": "ZeroDivisionError",
     "evalue": "division by zero",
     "output_type": "error",
     "traceback": [
      "\u001b[0;31m---------------------------------------------------------------------------\u001b[0m",
      "\u001b[0;31mZeroDivisionError\u001b[0m                         Traceback (most recent call last)",
      "Cell \u001b[0;32mIn[30], line 22\u001b[0m\n\u001b[1;32m     13\u001b[0m df_ \u001b[38;5;241m=\u001b[39m df_\u001b[38;5;241m.\u001b[39massign(method_extended\u001b[38;5;241m=\u001b[39mdf_[\u001b[38;5;124m'\u001b[39m\u001b[38;5;124msv_method\u001b[39m\u001b[38;5;124m'\u001b[39m] \u001b[38;5;241m+\u001b[39m \u001b[38;5;124m'\u001b[39m\u001b[38;5;124m_\u001b[39m\u001b[38;5;124m'\u001b[39m \u001b[38;5;241m+\u001b[39m df_[\u001b[38;5;124m'\u001b[39m\u001b[38;5;124mnObs\u001b[39m\u001b[38;5;124m'\u001b[39m]\u001b[38;5;241m.\u001b[39mastype(\u001b[38;5;28mstr\u001b[39m))\n\u001b[1;32m     16\u001b[0m df__ \u001b[38;5;241m=\u001b[39m df_[\n\u001b[1;32m     17\u001b[0m     (df_[\u001b[38;5;124m'\u001b[39m\u001b[38;5;124mloc_method\u001b[39m\u001b[38;5;124m'\u001b[39m] \u001b[38;5;241m==\u001b[39m \u001b[38;5;124m'\u001b[39m\u001b[38;5;124msrp_phat\u001b[39m\u001b[38;5;124m'\u001b[39m)\n\u001b[1;32m     18\u001b[0m     \u001b[38;5;241m&\u001b[39m (df_[\u001b[38;5;124m'\u001b[39m\u001b[38;5;124mmethod_extended\u001b[39m\u001b[38;5;124m'\u001b[39m] \u001b[38;5;241m==\u001b[39m \u001b[38;5;124m'\u001b[39m\u001b[38;5;124mref_8\u001b[39m\u001b[38;5;124m'\u001b[39m)\n\u001b[1;32m     19\u001b[0m ]\n\u001b[0;32m---> 22\u001b[0m \u001b[38;5;241;43m1\u001b[39;49m\u001b[38;5;241;43m/\u001b[39;49m\u001b[38;5;241;43m0\u001b[39;49m\n\u001b[1;32m     23\u001b[0m sns\u001b[38;5;241m.\u001b[39mrelplot(x\u001b[38;5;241m=\u001b[39m\u001b[38;5;124m'\u001b[39m\u001b[38;5;124msnr\u001b[39m\u001b[38;5;124m'\u001b[39m, y\u001b[38;5;241m=\u001b[39m\u001b[38;5;124m'\u001b[39m\u001b[38;5;124mang_error\u001b[39m\u001b[38;5;124m'\u001b[39m, hue\u001b[38;5;241m=\u001b[39m\u001b[38;5;124m'\u001b[39m\u001b[38;5;124mloc_method\u001b[39m\u001b[38;5;124m'\u001b[39m, data\u001b[38;5;241m=\u001b[39mdf_, kind\u001b[38;5;241m=\u001b[39m\u001b[38;5;124m'\u001b[39m\u001b[38;5;124mline\u001b[39m\u001b[38;5;124m'\u001b[39m, col\u001b[38;5;241m=\u001b[39m\u001b[38;5;124m'\u001b[39m\u001b[38;5;124mmethod_extended\u001b[39m\u001b[38;5;124m'\u001b[39m)\n\u001b[1;32m     24\u001b[0m plt\u001b[38;5;241m.\u001b[39mshow()\n",
      "\u001b[0;31mZeroDivisionError\u001b[0m: division by zero"
     ]
    }
   ],
   "source": [
    "noise_types = exp_df['noise_type'].unique()\n",
    "print(noise_types)\n",
    "\n",
    "\n",
    "for noise_type in noise_types:\n",
    "    \n",
    "    print(f\"noise_type: {noise_type}\")\n",
    "    df_ = exp_df[\n",
    "        (exp_df['noise_type'] == noise_type)\n",
    "        & (exp_df['seed'] == 13)\n",
    "        & (exp_df['snr'] < 10)\n",
    "    ]\n",
    "    df_ = df_.assign(method_extended=df_['sv_method'] + '_' + df_['nObs'].astype(str))\n",
    "\n",
    "\n",
    "    df__ = df_[\n",
    "        (df_['loc_method'] == 'srp_phat')\n",
    "        & (df_['method_extended'] == 'ref_8')\n",
    "    ]\n",
    "    \n",
    "    \n",
    "    1/0\n",
    "    sns.relplot(x='snr', y='ang_error', hue='loc_method', data=df_, kind='line', col='method_extended')\n",
    "    plt.show()"
   ]
  },
  {
   "cell_type": "code",
   "execution_count": 31,
   "metadata": {},
   "outputs": [],
   "source": [
    "df__.to_csv('asd.csv', index=False)"
   ]
  },
  {
   "cell_type": "code",
   "execution_count": null,
   "metadata": {},
   "outputs": [],
   "source": []
  }
 ],
 "metadata": {
  "kernelspec": {
   "display_name": "shamans",
   "language": "python",
   "name": "python3"
  },
  "language_info": {
   "codemirror_mode": {
    "name": "ipython",
    "version": 3
   },
   "file_extension": ".py",
   "mimetype": "text/x-python",
   "name": "python",
   "nbconvert_exporter": "python",
   "pygments_lexer": "ipython3",
   "version": "3.9.21"
  }
 },
 "nbformat": 4,
 "nbformat_minor": 2
}
